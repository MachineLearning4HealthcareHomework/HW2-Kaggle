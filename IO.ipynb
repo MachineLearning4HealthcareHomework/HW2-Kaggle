{
 "cells": [
  {
   "cell_type": "code",
   "execution_count": 19,
   "metadata": {},
   "outputs": [],
   "source": [
    "import json\n",
    "import os\n",
    "import spacy\n",
    "paths=['Cord-19-research-challenge/noncomm_use_subset/noncomm_use_subset/pmc_json','Cord-19-research-challenge/noncomm_use_subset/noncomm_use_subset/pdf_json','Cord-19-research-challenge/custom_license/custom_license/pmc_json','Cord-19-research-challenge/custom_license/custom_license/pdf_json','Cord-19-research-challenge/comm_use_subset/comm_use_subset/pmc_json','Cord-19-research-challenge/comm_use_subset/comm_use_subset/pdf_json','Cord-19-research-challenge/biorxiv_medrxiv/biorxiv_medrxiv/pdf_json']\n",
    "paths=['Cord-19-research-challenge/biorxiv_medrxiv/biorxiv_medrxiv/pdf_json']\n",
    "return_path='parsed_documents'\n",
    "for path in paths:\n",
    "    for file in os.listdir(path):\n",
    "        counter=0\n",
    "        file_info=dict()\n",
    "        data = json.load(open(path+'/'+file))\n",
    "        file_info['paper_id']=data['paper_id']\n",
    "        file_info['title']=data['metadata']['title']\n",
    "        content=''\n",
    "        #I have to clean this up later.\n",
    "        for paragraph in data['abstract']:\n",
    "            paragraph_info=file_info\n",
    "            content=paragraph['text']\n",
    "            #content=preprocess(content)\n",
    "            paragraph_info['tokens']=content\n",
    "            json.dump(paragraph_info, open(return_path+'/'+file_info['paper_id']+str(counter).zfill(3)+'.json', 'w'))\n",
    "            counter+=1\n",
    "        for paragraph in data['body_text']:\n",
    "            paragraph_info=file_info\n",
    "            content=paragraph['text']\n",
    "            #content=preprocess(content)\n",
    "            paragraph_info['tokens']=content\n",
    "            json.dump(return_object, open(return_path+'/'+return_object['paper_id']+str(counter).zfill(3)+'.json', 'w'))\n",
    "            counter+=1\n",
    "        break #still in training phase"
   ]
  },
  {
   "cell_type": "code",
   "execution_count": 18,
   "metadata": {},
   "outputs": [],
   "source": [
    "#https://jacopofarina.eu/posts/gensim-generator-is-not-iterator/\n",
    "class BoBIterator():\n",
    "    def __init__(self, generator_function):\n",
    "        self.generator_function = generator_function\n",
    "        self.generator = self.generator_function()\n",
    "\n",
    "    def __iter__(self):\n",
    "        # reset the generator\n",
    "        self.generator = self.generator_function()\n",
    "        return self\n",
    "\n",
    "    def __next__(self):\n",
    "        result = next(self.generator)\n",
    "        if result is None:\n",
    "            raise StopIteration\n",
    "        else:\n",
    "            return result\n",
    "\n",
    "def BoB_generator():\n",
    "    for file in os.listdir('parsed_documents'):\n",
    "        yield(json.load(open('parsed_documents'+'/'+file))['text'])#change to BoW"
   ]
  },
  {
   "cell_type": "code",
   "execution_count": 16,
   "metadata": {},
   "outputs": [],
   "source": [
    "test=BoBIterator(BoB_generator)"
   ]
  },
  {
   "cell_type": "code",
   "execution_count": 17,
   "metadata": {},
   "outputs": [
    {
     "name": "stdout",
     "output_type": "stream",
     "text": [
      "0015023cc06b5362d332b3baf348d11567ca2fbb\n"
     ]
    },
    {
     "data": {
      "text/plain": [
       "'0015023cc06b5362d332b3baf348d11567ca2fbb'"
      ]
     },
     "execution_count": 17,
     "metadata": {},
     "output_type": "execute_result"
    }
   ],
   "source": [
    "next(test)"
   ]
  }
 ],
 "metadata": {
  "kernelspec": {
   "display_name": "Python 3",
   "language": "python",
   "name": "python3"
  },
  "language_info": {
   "codemirror_mode": {
    "name": "ipython",
    "version": 3
   },
   "file_extension": ".py",
   "mimetype": "text/x-python",
   "name": "python",
   "nbconvert_exporter": "python",
   "pygments_lexer": "ipython3",
   "version": "3.7.4"
  }
 },
 "nbformat": 4,
 "nbformat_minor": 2
}
