{
 "cells": [
  {
   "cell_type": "code",
   "execution_count": 2,
   "metadata": {},
   "outputs": [],
   "source": [
    "import gensim\n",
    "from gensim.utils import tokenize"
   ]
  },
  {
   "cell_type": "code",
   "execution_count": 19,
   "metadata": {},
   "outputs": [
    {
     "name": "stdout",
     "output_type": "stream",
     "text": [
      "['baby', 'do', 'not', 'hurt', 'me']\n",
      "(0, '0.154*\"do\" + 0.153*\"me\" + 0.152*\"not\" + 0.152*\"hurt\" + 0.087*\"baby\" + 0.086*\"is\" + 0.085*\"love\" + 0.081*\"what\" + 0.026*\"no\" + 0.025*\"more\"')\n",
      "(1, '0.227*\"no\" + 0.225*\"more\" + 0.075*\"what\" + 0.069*\"love\" + 0.068*\"me\" + 0.068*\"is\" + 0.067*\"hurt\" + 0.067*\"do\" + 0.067*\"baby\" + 0.066*\"not\"')\n",
      "(2, '0.106*\"more\" + 0.104*\"what\" + 0.103*\"not\" + 0.103*\"hurt\" + 0.101*\"no\" + 0.098*\"me\" + 0.097*\"is\" + 0.097*\"do\" + 0.096*\"love\" + 0.095*\"baby\"')\n",
      "['how', 'deep', 'is', 'your', 'love']\n",
      "[[(0, 1), (1, 1), (2, 1), (3, 1), (4, 2)], [(1, 1), (5, 1), (6, 1), (7, 1), (8, 1)]]\n"
     ]
    },
    {
     "ename": "AssertionError",
     "evalue": "Invalid eta shape. Got shape (2, 5, 2), but expected (9, 1) or (2, 9)",
     "output_type": "error",
     "traceback": [
      "\u001b[1;31m---------------------------------------------------------------------------\u001b[0m",
      "\u001b[1;31mAssertionError\u001b[0m                            Traceback (most recent call last)",
      "\u001b[1;32m<ipython-input-19-356ecf612bb4>\u001b[0m in \u001b[0;36m<module>\u001b[1;34m\u001b[0m\n\u001b[0;32m     23\u001b[0m \u001b[0mpriors\u001b[0m \u001b[1;33m=\u001b[0m \u001b[1;33m[\u001b[0m\u001b[0mid2word1\u001b[0m\u001b[1;33m.\u001b[0m\u001b[0mdoc2bow\u001b[0m\u001b[1;33m(\u001b[0m\u001b[0mtoken\u001b[0m\u001b[1;33m)\u001b[0m \u001b[1;32mfor\u001b[0m \u001b[0mtoken\u001b[0m \u001b[1;32min\u001b[0m \u001b[0mtokens\u001b[0m\u001b[1;33m]\u001b[0m\u001b[1;33m\u001b[0m\u001b[1;33m\u001b[0m\u001b[0m\n\u001b[0;32m     24\u001b[0m \u001b[0mprint\u001b[0m\u001b[1;33m(\u001b[0m\u001b[0mpriors\u001b[0m\u001b[1;33m)\u001b[0m\u001b[1;33m\u001b[0m\u001b[1;33m\u001b[0m\u001b[0m\n\u001b[1;32m---> 25\u001b[1;33m \u001b[0mlda_model\u001b[0m\u001b[1;33m=\u001b[0m\u001b[0mgensim\u001b[0m\u001b[1;33m.\u001b[0m\u001b[0mmodels\u001b[0m\u001b[1;33m.\u001b[0m\u001b[0mldamodel\u001b[0m\u001b[1;33m.\u001b[0m\u001b[0mLdaModel\u001b[0m\u001b[1;33m(\u001b[0m\u001b[0mcorpus\u001b[0m\u001b[1;33m=\u001b[0m\u001b[0mcorpus\u001b[0m\u001b[1;33m,\u001b[0m\u001b[0mid2word\u001b[0m\u001b[1;33m=\u001b[0m\u001b[0mid2word1\u001b[0m\u001b[1;33m,\u001b[0m\u001b[0mnum_topics\u001b[0m\u001b[1;33m=\u001b[0m\u001b[1;36m2\u001b[0m\u001b[1;33m,\u001b[0m \u001b[0meta\u001b[0m\u001b[1;33m=\u001b[0m\u001b[0mpriors\u001b[0m\u001b[1;33m)\u001b[0m\u001b[1;33m\u001b[0m\u001b[1;33m\u001b[0m\u001b[0m\n\u001b[0m\u001b[0;32m     26\u001b[0m \u001b[1;32mfor\u001b[0m \u001b[0mtopic\u001b[0m \u001b[1;32min\u001b[0m \u001b[0mlda_model\u001b[0m\u001b[1;33m.\u001b[0m\u001b[0mprint_topics\u001b[0m\u001b[1;33m(\u001b[0m\u001b[1;33m)\u001b[0m\u001b[1;33m:\u001b[0m\u001b[1;33m\u001b[0m\u001b[1;33m\u001b[0m\u001b[0m\n\u001b[0;32m     27\u001b[0m     \u001b[0mprint\u001b[0m\u001b[1;33m(\u001b[0m\u001b[0mtopic\u001b[0m\u001b[1;33m)\u001b[0m\u001b[1;33m\u001b[0m\u001b[1;33m\u001b[0m\u001b[0m\n",
      "\u001b[1;32m~\\Anaconda3\\lib\\site-packages\\gensim\\models\\ldamodel.py\u001b[0m in \u001b[0;36m__init__\u001b[1;34m(self, corpus, num_topics, id2word, distributed, chunksize, passes, update_every, alpha, eta, decay, offset, eval_every, iterations, gamma_threshold, minimum_probability, random_state, ns_conf, minimum_phi_value, per_word_topics, callbacks, dtype)\u001b[0m\n\u001b[0;32m    471\u001b[0m         assert self.eta.shape == (self.num_terms,) or self.eta.shape == (self.num_topics, self.num_terms), (\n\u001b[0;32m    472\u001b[0m             \u001b[1;34m\"Invalid eta shape. Got shape %s, but expected (%d, 1) or (%d, %d)\"\u001b[0m \u001b[1;33m%\u001b[0m\u001b[1;33m\u001b[0m\u001b[1;33m\u001b[0m\u001b[0m\n\u001b[1;32m--> 473\u001b[1;33m             (str(self.eta.shape), self.num_terms, self.num_topics, self.num_terms))\n\u001b[0m\u001b[0;32m    474\u001b[0m \u001b[1;33m\u001b[0m\u001b[0m\n\u001b[0;32m    475\u001b[0m         \u001b[1;31m# VB constants\u001b[0m\u001b[1;33m\u001b[0m\u001b[1;33m\u001b[0m\u001b[1;33m\u001b[0m\u001b[0m\n",
      "\u001b[1;31mAssertionError\u001b[0m: Invalid eta shape. Got shape (2, 5, 2), but expected (9, 1) or (2, 9)"
     ]
    }
   ],
   "source": [
    "texts=[\"what is love\",\"baby do not hurt me\", \"do not hurt me\", \"no more\"]\n",
    "priors=[\"understand understand the concept of love\", \"how deep is your love\"]\n",
    "\n",
    "tokens=[]\n",
    "for text in texts:\n",
    "    tokens.append(list(tokenize(text)))\n",
    "print(tokens[1])\n",
    "id2word = gensim.corpora.Dictionary(tokens)\n",
    "# Term Document Frequency\n",
    "corpus = [id2word.doc2bow(token) for token in tokens]\n",
    "\n",
    "lda_model=gensim.models.ldamodel.LdaModel(corpus=corpus,id2word=id2word,num_topics=3)\n",
    "for topic in lda_model.print_topics():\n",
    "    print(topic)\n",
    "\n",
    "    \n",
    "tokens=[]\n",
    "for text in priors:\n",
    "    tokens.append(list(tokenize(text)))\n",
    "print(tokens[1])\n",
    "id2word1 = gensim.corpora.Dictionary(tokens)\n",
    "# Term Document Frequency\n",
    "priors = [id2word1.doc2bow(token) for token in tokens]\n",
    "print(priors)\n",
    "lda_model=gensim.models.ldamodel.LdaModel(corpus=corpus,id2word=id2word1,num_topics=2, eta=priors)\n",
    "for topic in lda_model.print_topics():\n",
    "    print(topic)\n",
    "    "
   ]
  },
  {
   "cell_type": "code",
   "execution_count": null,
   "metadata": {},
   "outputs": [],
   "source": []
  }
 ],
 "metadata": {
  "kernelspec": {
   "display_name": "Python 3",
   "language": "python",
   "name": "python3"
  },
  "language_info": {
   "codemirror_mode": {
    "name": "ipython",
    "version": 3
   },
   "file_extension": ".py",
   "mimetype": "text/x-python",
   "name": "python",
   "nbconvert_exporter": "python",
   "pygments_lexer": "ipython3",
   "version": "3.7.4"
  }
 },
 "nbformat": 4,
 "nbformat_minor": 2
}
